{
  "nbformat": 4,
  "nbformat_minor": 0,
  "metadata": {
    "colab": {
      "name": "Tensor decomposition on NN example",
      "provenance": [],
      "collapsed_sections": []
    },
    "kernelspec": {
      "name": "python3",
      "display_name": "Python 3"
    },
    "language_info": {
      "name": "python"
    },
    "accelerator": "GPU",
    "widgets": {
      "application/vnd.jupyter.widget-state+json": {
        "059d19a3b4e54612ace064adf5307907": {
          "model_module": "@jupyter-widgets/controls",
          "model_name": "HBoxModel",
          "state": {
            "_view_name": "HBoxView",
            "_dom_classes": [],
            "_model_name": "HBoxModel",
            "_view_module": "@jupyter-widgets/controls",
            "_model_module_version": "1.5.0",
            "_view_count": null,
            "_view_module_version": "1.5.0",
            "box_style": "",
            "layout": "IPY_MODEL_a420e300b7f74d5f848fadb8652a4d38",
            "_model_module": "@jupyter-widgets/controls",
            "children": [
              "IPY_MODEL_995f6e30171044fcaa2a4dfec8221d10",
              "IPY_MODEL_b620aed08f0446ce8c24a859a26ddd67"
            ]
          }
        },
        "a420e300b7f74d5f848fadb8652a4d38": {
          "model_module": "@jupyter-widgets/base",
          "model_name": "LayoutModel",
          "state": {
            "_view_name": "LayoutView",
            "grid_template_rows": null,
            "right": null,
            "justify_content": null,
            "_view_module": "@jupyter-widgets/base",
            "overflow": null,
            "_model_module_version": "1.2.0",
            "_view_count": null,
            "flex_flow": null,
            "width": null,
            "min_width": null,
            "border": null,
            "align_items": null,
            "bottom": null,
            "_model_module": "@jupyter-widgets/base",
            "top": null,
            "grid_column": null,
            "overflow_y": null,
            "overflow_x": null,
            "grid_auto_flow": null,
            "grid_area": null,
            "grid_template_columns": null,
            "flex": null,
            "_model_name": "LayoutModel",
            "justify_items": null,
            "grid_row": null,
            "max_height": null,
            "align_content": null,
            "visibility": null,
            "align_self": null,
            "height": null,
            "min_height": null,
            "padding": null,
            "grid_auto_rows": null,
            "grid_gap": null,
            "max_width": null,
            "order": null,
            "_view_module_version": "1.2.0",
            "grid_template_areas": null,
            "object_position": null,
            "object_fit": null,
            "grid_auto_columns": null,
            "margin": null,
            "display": null,
            "left": null
          }
        },
        "995f6e30171044fcaa2a4dfec8221d10": {
          "model_module": "@jupyter-widgets/controls",
          "model_name": "FloatProgressModel",
          "state": {
            "_view_name": "ProgressView",
            "style": "IPY_MODEL_7e6e98f039dc4d8bafa1057306cf1a37",
            "_dom_classes": [],
            "description": "",
            "_model_name": "FloatProgressModel",
            "bar_style": "success",
            "max": 170498071,
            "_view_module": "@jupyter-widgets/controls",
            "_model_module_version": "1.5.0",
            "value": 170498071,
            "_view_count": null,
            "_view_module_version": "1.5.0",
            "orientation": "horizontal",
            "min": 0,
            "description_tooltip": null,
            "_model_module": "@jupyter-widgets/controls",
            "layout": "IPY_MODEL_e76bb3ddf0c0457bb1492185cf501af5"
          }
        },
        "b620aed08f0446ce8c24a859a26ddd67": {
          "model_module": "@jupyter-widgets/controls",
          "model_name": "HTMLModel",
          "state": {
            "_view_name": "HTMLView",
            "style": "IPY_MODEL_377f123ff30746ca9ff469664386f66f",
            "_dom_classes": [],
            "description": "",
            "_model_name": "HTMLModel",
            "placeholder": "​",
            "_view_module": "@jupyter-widgets/controls",
            "_model_module_version": "1.5.0",
            "value": " 170499072/? [04:20&lt;00:00, 653444.90it/s]",
            "_view_count": null,
            "_view_module_version": "1.5.0",
            "description_tooltip": null,
            "_model_module": "@jupyter-widgets/controls",
            "layout": "IPY_MODEL_6deee49d816f4cde95c248a2fa9d0e92"
          }
        },
        "7e6e98f039dc4d8bafa1057306cf1a37": {
          "model_module": "@jupyter-widgets/controls",
          "model_name": "ProgressStyleModel",
          "state": {
            "_view_name": "StyleView",
            "_model_name": "ProgressStyleModel",
            "description_width": "initial",
            "_view_module": "@jupyter-widgets/base",
            "_model_module_version": "1.5.0",
            "_view_count": null,
            "_view_module_version": "1.2.0",
            "bar_color": null,
            "_model_module": "@jupyter-widgets/controls"
          }
        },
        "e76bb3ddf0c0457bb1492185cf501af5": {
          "model_module": "@jupyter-widgets/base",
          "model_name": "LayoutModel",
          "state": {
            "_view_name": "LayoutView",
            "grid_template_rows": null,
            "right": null,
            "justify_content": null,
            "_view_module": "@jupyter-widgets/base",
            "overflow": null,
            "_model_module_version": "1.2.0",
            "_view_count": null,
            "flex_flow": null,
            "width": null,
            "min_width": null,
            "border": null,
            "align_items": null,
            "bottom": null,
            "_model_module": "@jupyter-widgets/base",
            "top": null,
            "grid_column": null,
            "overflow_y": null,
            "overflow_x": null,
            "grid_auto_flow": null,
            "grid_area": null,
            "grid_template_columns": null,
            "flex": null,
            "_model_name": "LayoutModel",
            "justify_items": null,
            "grid_row": null,
            "max_height": null,
            "align_content": null,
            "visibility": null,
            "align_self": null,
            "height": null,
            "min_height": null,
            "padding": null,
            "grid_auto_rows": null,
            "grid_gap": null,
            "max_width": null,
            "order": null,
            "_view_module_version": "1.2.0",
            "grid_template_areas": null,
            "object_position": null,
            "object_fit": null,
            "grid_auto_columns": null,
            "margin": null,
            "display": null,
            "left": null
          }
        },
        "377f123ff30746ca9ff469664386f66f": {
          "model_module": "@jupyter-widgets/controls",
          "model_name": "DescriptionStyleModel",
          "state": {
            "_view_name": "StyleView",
            "_model_name": "DescriptionStyleModel",
            "description_width": "",
            "_view_module": "@jupyter-widgets/base",
            "_model_module_version": "1.5.0",
            "_view_count": null,
            "_view_module_version": "1.2.0",
            "_model_module": "@jupyter-widgets/controls"
          }
        },
        "6deee49d816f4cde95c248a2fa9d0e92": {
          "model_module": "@jupyter-widgets/base",
          "model_name": "LayoutModel",
          "state": {
            "_view_name": "LayoutView",
            "grid_template_rows": null,
            "right": null,
            "justify_content": null,
            "_view_module": "@jupyter-widgets/base",
            "overflow": null,
            "_model_module_version": "1.2.0",
            "_view_count": null,
            "flex_flow": null,
            "width": null,
            "min_width": null,
            "border": null,
            "align_items": null,
            "bottom": null,
            "_model_module": "@jupyter-widgets/base",
            "top": null,
            "grid_column": null,
            "overflow_y": null,
            "overflow_x": null,
            "grid_auto_flow": null,
            "grid_area": null,
            "grid_template_columns": null,
            "flex": null,
            "_model_name": "LayoutModel",
            "justify_items": null,
            "grid_row": null,
            "max_height": null,
            "align_content": null,
            "visibility": null,
            "align_self": null,
            "height": null,
            "min_height": null,
            "padding": null,
            "grid_auto_rows": null,
            "grid_gap": null,
            "max_width": null,
            "order": null,
            "_view_module_version": "1.2.0",
            "grid_template_areas": null,
            "object_position": null,
            "object_fit": null,
            "grid_auto_columns": null,
            "margin": null,
            "display": null,
            "left": null
          }
        },
        "90b12ee008314395b5ec297ca03aafce": {
          "model_module": "@jupyter-widgets/controls",
          "model_name": "HBoxModel",
          "state": {
            "_view_name": "HBoxView",
            "_dom_classes": [],
            "_model_name": "HBoxModel",
            "_view_module": "@jupyter-widgets/controls",
            "_model_module_version": "1.5.0",
            "_view_count": null,
            "_view_module_version": "1.5.0",
            "box_style": "",
            "layout": "IPY_MODEL_aa546e558e314b90a4d99708baedfe0e",
            "_model_module": "@jupyter-widgets/controls",
            "children": [
              "IPY_MODEL_9a54ab60e8774bad830c7747efe23a3f",
              "IPY_MODEL_65cad25a554e4b0290ba98d5e12f5b37"
            ]
          }
        },
        "aa546e558e314b90a4d99708baedfe0e": {
          "model_module": "@jupyter-widgets/base",
          "model_name": "LayoutModel",
          "state": {
            "_view_name": "LayoutView",
            "grid_template_rows": null,
            "right": null,
            "justify_content": null,
            "_view_module": "@jupyter-widgets/base",
            "overflow": null,
            "_model_module_version": "1.2.0",
            "_view_count": null,
            "flex_flow": null,
            "width": null,
            "min_width": null,
            "border": null,
            "align_items": null,
            "bottom": null,
            "_model_module": "@jupyter-widgets/base",
            "top": null,
            "grid_column": null,
            "overflow_y": null,
            "overflow_x": null,
            "grid_auto_flow": null,
            "grid_area": null,
            "grid_template_columns": null,
            "flex": null,
            "_model_name": "LayoutModel",
            "justify_items": null,
            "grid_row": null,
            "max_height": null,
            "align_content": null,
            "visibility": null,
            "align_self": null,
            "height": null,
            "min_height": null,
            "padding": null,
            "grid_auto_rows": null,
            "grid_gap": null,
            "max_width": null,
            "order": null,
            "_view_module_version": "1.2.0",
            "grid_template_areas": null,
            "object_position": null,
            "object_fit": null,
            "grid_auto_columns": null,
            "margin": null,
            "display": null,
            "left": null
          }
        },
        "9a54ab60e8774bad830c7747efe23a3f": {
          "model_module": "@jupyter-widgets/controls",
          "model_name": "FloatProgressModel",
          "state": {
            "_view_name": "ProgressView",
            "style": "IPY_MODEL_b951913a870a48da99e04d694ffcfca9",
            "_dom_classes": [],
            "description": "100%",
            "_model_name": "FloatProgressModel",
            "bar_style": "success",
            "max": 531503671,
            "_view_module": "@jupyter-widgets/controls",
            "_model_module_version": "1.5.0",
            "value": 531503671,
            "_view_count": null,
            "_view_module_version": "1.5.0",
            "orientation": "horizontal",
            "min": 0,
            "description_tooltip": null,
            "_model_module": "@jupyter-widgets/controls",
            "layout": "IPY_MODEL_fad2115e802b43049e238dba834ec9bc"
          }
        },
        "65cad25a554e4b0290ba98d5e12f5b37": {
          "model_module": "@jupyter-widgets/controls",
          "model_name": "HTMLModel",
          "state": {
            "_view_name": "HTMLView",
            "style": "IPY_MODEL_3ec8168f2cc840109d7c24530ee5a505",
            "_dom_classes": [],
            "description": "",
            "_model_name": "HTMLModel",
            "placeholder": "​",
            "_view_module": "@jupyter-widgets/controls",
            "_model_module_version": "1.5.0",
            "value": " 507M/507M [00:06&lt;00:00, 79.0MB/s]",
            "_view_count": null,
            "_view_module_version": "1.5.0",
            "description_tooltip": null,
            "_model_module": "@jupyter-widgets/controls",
            "layout": "IPY_MODEL_9328e1350a24441fa95bfaf5eb87f10c"
          }
        },
        "b951913a870a48da99e04d694ffcfca9": {
          "model_module": "@jupyter-widgets/controls",
          "model_name": "ProgressStyleModel",
          "state": {
            "_view_name": "StyleView",
            "_model_name": "ProgressStyleModel",
            "description_width": "initial",
            "_view_module": "@jupyter-widgets/base",
            "_model_module_version": "1.5.0",
            "_view_count": null,
            "_view_module_version": "1.2.0",
            "bar_color": null,
            "_model_module": "@jupyter-widgets/controls"
          }
        },
        "fad2115e802b43049e238dba834ec9bc": {
          "model_module": "@jupyter-widgets/base",
          "model_name": "LayoutModel",
          "state": {
            "_view_name": "LayoutView",
            "grid_template_rows": null,
            "right": null,
            "justify_content": null,
            "_view_module": "@jupyter-widgets/base",
            "overflow": null,
            "_model_module_version": "1.2.0",
            "_view_count": null,
            "flex_flow": null,
            "width": null,
            "min_width": null,
            "border": null,
            "align_items": null,
            "bottom": null,
            "_model_module": "@jupyter-widgets/base",
            "top": null,
            "grid_column": null,
            "overflow_y": null,
            "overflow_x": null,
            "grid_auto_flow": null,
            "grid_area": null,
            "grid_template_columns": null,
            "flex": null,
            "_model_name": "LayoutModel",
            "justify_items": null,
            "grid_row": null,
            "max_height": null,
            "align_content": null,
            "visibility": null,
            "align_self": null,
            "height": null,
            "min_height": null,
            "padding": null,
            "grid_auto_rows": null,
            "grid_gap": null,
            "max_width": null,
            "order": null,
            "_view_module_version": "1.2.0",
            "grid_template_areas": null,
            "object_position": null,
            "object_fit": null,
            "grid_auto_columns": null,
            "margin": null,
            "display": null,
            "left": null
          }
        },
        "3ec8168f2cc840109d7c24530ee5a505": {
          "model_module": "@jupyter-widgets/controls",
          "model_name": "DescriptionStyleModel",
          "state": {
            "_view_name": "StyleView",
            "_model_name": "DescriptionStyleModel",
            "description_width": "",
            "_view_module": "@jupyter-widgets/base",
            "_model_module_version": "1.5.0",
            "_view_count": null,
            "_view_module_version": "1.2.0",
            "_model_module": "@jupyter-widgets/controls"
          }
        },
        "9328e1350a24441fa95bfaf5eb87f10c": {
          "model_module": "@jupyter-widgets/base",
          "model_name": "LayoutModel",
          "state": {
            "_view_name": "LayoutView",
            "grid_template_rows": null,
            "right": null,
            "justify_content": null,
            "_view_module": "@jupyter-widgets/base",
            "overflow": null,
            "_model_module_version": "1.2.0",
            "_view_count": null,
            "flex_flow": null,
            "width": null,
            "min_width": null,
            "border": null,
            "align_items": null,
            "bottom": null,
            "_model_module": "@jupyter-widgets/base",
            "top": null,
            "grid_column": null,
            "overflow_y": null,
            "overflow_x": null,
            "grid_auto_flow": null,
            "grid_area": null,
            "grid_template_columns": null,
            "flex": null,
            "_model_name": "LayoutModel",
            "justify_items": null,
            "grid_row": null,
            "max_height": null,
            "align_content": null,
            "visibility": null,
            "align_self": null,
            "height": null,
            "min_height": null,
            "padding": null,
            "grid_auto_rows": null,
            "grid_gap": null,
            "max_width": null,
            "order": null,
            "_view_module_version": "1.2.0",
            "grid_template_areas": null,
            "object_position": null,
            "object_fit": null,
            "grid_auto_columns": null,
            "margin": null,
            "display": null,
            "left": null
          }
        }
      }
    }
  },
  "cells": [
    {
      "cell_type": "code",
      "metadata": {
        "colab": {
          "base_uri": "https://localhost:8080/"
        },
        "id": "GYQ8WmrccHcP",
        "outputId": "55423cf5-a230-4fbd-8045-54d746642cc2"
      },
      "source": [
        "!pip install tensorly\n",
        "!pip install ptflops\n"
      ],
      "execution_count": null,
      "outputs": [
        {
          "output_type": "stream",
          "text": [
            "Collecting tensorly\n",
            "\u001b[?25l  Downloading https://files.pythonhosted.org/packages/42/3a/bf39a426e0d13a60d8cdee42419edeaa24aed2ec82f90a820b040e7db190/tensorly-0.6.0-py3-none-any.whl (160kB)\n",
            "\r\u001b[K     |██                              | 10kB 17.3MB/s eta 0:00:01\r\u001b[K     |████                            | 20kB 22.0MB/s eta 0:00:01\r\u001b[K     |██████▏                         | 30kB 16.8MB/s eta 0:00:01\r\u001b[K     |████████▏                       | 40kB 15.4MB/s eta 0:00:01\r\u001b[K     |██████████▏                     | 51kB 8.0MB/s eta 0:00:01\r\u001b[K     |████████████▎                   | 61kB 7.8MB/s eta 0:00:01\r\u001b[K     |██████████████▎                 | 71kB 8.9MB/s eta 0:00:01\r\u001b[K     |████████████████▎               | 81kB 9.3MB/s eta 0:00:01\r\u001b[K     |██████████████████▍             | 92kB 9.8MB/s eta 0:00:01\r\u001b[K     |████████████████████▍           | 102kB 7.8MB/s eta 0:00:01\r\u001b[K     |██████████████████████▍         | 112kB 7.8MB/s eta 0:00:01\r\u001b[K     |████████████████████████▌       | 122kB 7.8MB/s eta 0:00:01\r\u001b[K     |██████████████████████████▌     | 133kB 7.8MB/s eta 0:00:01\r\u001b[K     |████████████████████████████▌   | 143kB 7.8MB/s eta 0:00:01\r\u001b[K     |██████████████████████████████▋ | 153kB 7.8MB/s eta 0:00:01\r\u001b[K     |████████████████████████████████| 163kB 7.8MB/s \n",
            "\u001b[?25hRequirement already satisfied: scipy in /usr/local/lib/python3.7/dist-packages (from tensorly) (1.4.1)\n",
            "Requirement already satisfied: numpy in /usr/local/lib/python3.7/dist-packages (from tensorly) (1.19.5)\n",
            "Collecting nose\n",
            "\u001b[?25l  Downloading https://files.pythonhosted.org/packages/15/d8/dd071918c040f50fa1cf80da16423af51ff8ce4a0f2399b7bf8de45ac3d9/nose-1.3.7-py3-none-any.whl (154kB)\n",
            "\u001b[K     |████████████████████████████████| 163kB 16.9MB/s \n",
            "\u001b[?25hInstalling collected packages: nose, tensorly\n",
            "Successfully installed nose-1.3.7 tensorly-0.6.0\n",
            "Collecting ptflops\n",
            "  Downloading https://files.pythonhosted.org/packages/a9/35/430caa2178d8b901d532f88b9e0701908d049b2958b30a1134e3e3e52ae7/ptflops-0.6.4.tar.gz\n",
            "Requirement already satisfied: torch in /usr/local/lib/python3.7/dist-packages (from ptflops) (1.8.1+cu101)\n",
            "Requirement already satisfied: numpy in /usr/local/lib/python3.7/dist-packages (from torch->ptflops) (1.19.5)\n",
            "Requirement already satisfied: typing-extensions in /usr/local/lib/python3.7/dist-packages (from torch->ptflops) (3.7.4.3)\n",
            "Building wheels for collected packages: ptflops\n",
            "  Building wheel for ptflops (setup.py) ... \u001b[?25l\u001b[?25hdone\n",
            "  Created wheel for ptflops: filename=ptflops-0.6.4-cp37-none-any.whl size=8573 sha256=dc74c0003a5f99290ececce091c3fab0bab0facd129d8e30f818d93af84f2fa4\n",
            "  Stored in directory: /root/.cache/pip/wheels/4a/98/93/570ea2949d33c4c0960a8e85bc8725fe37706b933d4e5b173b\n",
            "Successfully built ptflops\n",
            "Installing collected packages: ptflops\n",
            "Successfully installed ptflops-0.6.4\n"
          ],
          "name": "stdout"
        }
      ]
    },
    {
      "cell_type": "code",
      "metadata": {
        "colab": {
          "base_uri": "https://localhost:8080/",
          "height": 137,
          "referenced_widgets": [
            "059d19a3b4e54612ace064adf5307907",
            "a420e300b7f74d5f848fadb8652a4d38",
            "995f6e30171044fcaa2a4dfec8221d10",
            "b620aed08f0446ce8c24a859a26ddd67",
            "7e6e98f039dc4d8bafa1057306cf1a37",
            "e76bb3ddf0c0457bb1492185cf501af5",
            "377f123ff30746ca9ff469664386f66f",
            "6deee49d816f4cde95c248a2fa9d0e92"
          ]
        },
        "id": "vBDjWAMjwi3k",
        "outputId": "241d6297-e100-464e-ac15-ccc716aa93d7"
      },
      "source": [
        "# helper function for training(fine-tuning)\n",
        "import torch\n",
        "import torch.nn as nn\n",
        "import torch.optim as optim\n",
        "from torch.utils.data import DataLoader\n",
        "from torchvision import models, datasets, transforms\n",
        "from ptflops import get_model_complexity_info\n",
        "\n",
        "DEVICE = torch.device(\"cuda\" if torch.cuda.is_available() else \"cpu\")\n",
        "\n",
        "# Pytorch transforms composition\n",
        "transform = transforms.Compose(\n",
        "    [\n",
        "    transforms.ToTensor(),\n",
        "    transforms.Normalize((0.5, 0.5, 0.5), (0.5, 0.5, 0.5))\n",
        "    ]\n",
        ")\n",
        "# Pytorch Datasets class\n",
        "train_dataset = datasets.CIFAR10(\n",
        "    \"./data/cifar10\", train=True, download=True, transform=transform\n",
        ")\n",
        "test_dataset = datasets.CIFAR10(\n",
        "    \"./data/cifar10\", train=False, download=True, transform=transform\n",
        ")\n",
        "# Pytorch Dataloader class\n",
        "TRAIN_DATALOADER = DataLoader(\n",
        "    train_dataset, batch_size=64, shuffle=True, num_workers=2\n",
        ")\n",
        "TEST_DATALOADER = DataLoader(\n",
        "    test_dataset, batch_size=64, shuffle=False, num_workers=2\n",
        ")\n",
        "\n",
        "@torch.no_grad()\n",
        "def test(model):\n",
        "  model.eval()\n",
        "  correct, total = 0, 0\n",
        "  for i, data in enumerate(TEST_DATALOADER):\n",
        "    inputs, labels = data[0].to(DEVICE), data[1].to(DEVICE)\n",
        "    outputs = model(inputs)\n",
        "    _, preds = torch.max(outputs, 1)\n",
        "    correct += (preds == labels).sum()\n",
        "    total += labels.shape[0]\n",
        "  print(f\"Test acc: {correct/total*100.0:.2f}%\")\n",
        "\n",
        "def train(model, num_epochs=5):\n",
        "  criterion = nn.CrossEntropyLoss()\n",
        "  optimizer = optim.Adam(model.parameters())\n",
        "  for epoch in range(num_epochs):\n",
        "    model.train()\n",
        "    running_loss = 0.0\n",
        "    for i, data in enumerate(TRAIN_DATALOADER):\n",
        "      inputs, labels = data[0].to(DEVICE), data[1].to(DEVICE)\n",
        "      optimizer.zero_grad()\n",
        "      outputs = model(inputs)\n",
        "      \n",
        "      loss = criterion(outputs, labels)\n",
        "      loss.backward()\n",
        "      optimizer.step()\n",
        "      running_loss += loss.item()\n",
        "    print('epoch : %d loss: %.3f' %(epoch + 1, running_loss / (i+1)))\n",
        "    test(model)\n",
        "  print('Finished Training')"
      ],
      "execution_count": null,
      "outputs": [
        {
          "output_type": "stream",
          "text": [
            "Downloading https://www.cs.toronto.edu/~kriz/cifar-10-python.tar.gz to ./data/cifar10/cifar-10-python.tar.gz\n"
          ],
          "name": "stdout"
        },
        {
          "output_type": "display_data",
          "data": {
            "application/vnd.jupyter.widget-view+json": {
              "model_id": "059d19a3b4e54612ace064adf5307907",
              "version_minor": 0,
              "version_major": 2
            },
            "text/plain": [
              "HBox(children=(FloatProgress(value=0.0, max=170498071.0), HTML(value='')))"
            ]
          },
          "metadata": {
            "tags": []
          }
        },
        {
          "output_type": "stream",
          "text": [
            "\n",
            "Extracting ./data/cifar10/cifar-10-python.tar.gz to ./data/cifar10\n",
            "Files already downloaded and verified\n"
          ],
          "name": "stdout"
        }
      ]
    },
    {
      "cell_type": "markdown",
      "metadata": {
        "id": "pST3n6glaIyi"
      },
      "source": [
        "## 1. 모델 및 데이터로더 생성, 학습"
      ]
    },
    {
      "cell_type": "code",
      "metadata": {
        "id": "NvzTkbepXYmt"
      },
      "source": [
        "# Create model\n",
        "class MyModel(nn.Module):\n",
        "    def __init__(self, model_conv, label=10):\n",
        "        super().__init__()\n",
        "        self.features = model_conv.features\n",
        "        self.avgpool = nn.AdaptiveAvgPool2d((1, 1))\n",
        "        self.fc = nn.Linear(512, label)\n",
        "\n",
        "    def forward(self, x):\n",
        "        x = self.features(x)\n",
        "        x = self.avgpool(x)\n",
        "        x = torch.flatten(x, 1)\n",
        "        x = self.fc(x)\n",
        "        return x\n",
        "\n",
        "def create_model():\n",
        "  model_conv = models.vgg11_bn(pretrained=True)\n",
        "  return MyModel(model_conv)\n",
        "\n",
        "def get_macs(model):\n",
        "  model = model.to(DEVICE)\n",
        "  # calculate macs\n",
        "  macs, params = get_model_complexity_info(model, tuple([3, 32, 32]), as_strings=True,\n",
        "                                           print_per_layer_stat=True, verbose=True)\n",
        "  return macs, params"
      ],
      "execution_count": null,
      "outputs": []
    },
    {
      "cell_type": "code",
      "metadata": {
        "id": "jzQElINPXveE",
        "colab": {
          "base_uri": "https://localhost:8080/",
          "height": 698,
          "referenced_widgets": [
            "90b12ee008314395b5ec297ca03aafce",
            "aa546e558e314b90a4d99708baedfe0e",
            "9a54ab60e8774bad830c7747efe23a3f",
            "65cad25a554e4b0290ba98d5e12f5b37",
            "b951913a870a48da99e04d694ffcfca9",
            "fad2115e802b43049e238dba834ec9bc",
            "3ec8168f2cc840109d7c24530ee5a505",
            "9328e1350a24441fa95bfaf5eb87f10c"
          ]
        },
        "outputId": "a10798d5-8ee2-41f1-8068-c90b02376e55"
      },
      "source": [
        "# model creation test\n",
        "test_model = create_model().to(DEVICE)\n",
        "print(test_model)"
      ],
      "execution_count": null,
      "outputs": [
        {
          "output_type": "stream",
          "text": [
            "Downloading: \"https://download.pytorch.org/models/vgg11_bn-6002323d.pth\" to /root/.cache/torch/hub/checkpoints/vgg11_bn-6002323d.pth\n"
          ],
          "name": "stderr"
        },
        {
          "output_type": "display_data",
          "data": {
            "application/vnd.jupyter.widget-view+json": {
              "model_id": "90b12ee008314395b5ec297ca03aafce",
              "version_minor": 0,
              "version_major": 2
            },
            "text/plain": [
              "HBox(children=(FloatProgress(value=0.0, max=531503671.0), HTML(value='')))"
            ]
          },
          "metadata": {
            "tags": []
          }
        },
        {
          "output_type": "stream",
          "text": [
            "\n",
            "MyModel(\n",
            "  (features): Sequential(\n",
            "    (0): Conv2d(3, 64, kernel_size=(3, 3), stride=(1, 1), padding=(1, 1))\n",
            "    (1): BatchNorm2d(64, eps=1e-05, momentum=0.1, affine=True, track_running_stats=True)\n",
            "    (2): ReLU(inplace=True)\n",
            "    (3): MaxPool2d(kernel_size=2, stride=2, padding=0, dilation=1, ceil_mode=False)\n",
            "    (4): Conv2d(64, 128, kernel_size=(3, 3), stride=(1, 1), padding=(1, 1))\n",
            "    (5): BatchNorm2d(128, eps=1e-05, momentum=0.1, affine=True, track_running_stats=True)\n",
            "    (6): ReLU(inplace=True)\n",
            "    (7): MaxPool2d(kernel_size=2, stride=2, padding=0, dilation=1, ceil_mode=False)\n",
            "    (8): Conv2d(128, 256, kernel_size=(3, 3), stride=(1, 1), padding=(1, 1))\n",
            "    (9): BatchNorm2d(256, eps=1e-05, momentum=0.1, affine=True, track_running_stats=True)\n",
            "    (10): ReLU(inplace=True)\n",
            "    (11): Conv2d(256, 256, kernel_size=(3, 3), stride=(1, 1), padding=(1, 1))\n",
            "    (12): BatchNorm2d(256, eps=1e-05, momentum=0.1, affine=True, track_running_stats=True)\n",
            "    (13): ReLU(inplace=True)\n",
            "    (14): MaxPool2d(kernel_size=2, stride=2, padding=0, dilation=1, ceil_mode=False)\n",
            "    (15): Conv2d(256, 512, kernel_size=(3, 3), stride=(1, 1), padding=(1, 1))\n",
            "    (16): BatchNorm2d(512, eps=1e-05, momentum=0.1, affine=True, track_running_stats=True)\n",
            "    (17): ReLU(inplace=True)\n",
            "    (18): Conv2d(512, 512, kernel_size=(3, 3), stride=(1, 1), padding=(1, 1))\n",
            "    (19): BatchNorm2d(512, eps=1e-05, momentum=0.1, affine=True, track_running_stats=True)\n",
            "    (20): ReLU(inplace=True)\n",
            "    (21): MaxPool2d(kernel_size=2, stride=2, padding=0, dilation=1, ceil_mode=False)\n",
            "    (22): Conv2d(512, 512, kernel_size=(3, 3), stride=(1, 1), padding=(1, 1))\n",
            "    (23): BatchNorm2d(512, eps=1e-05, momentum=0.1, affine=True, track_running_stats=True)\n",
            "    (24): ReLU(inplace=True)\n",
            "    (25): Conv2d(512, 512, kernel_size=(3, 3), stride=(1, 1), padding=(1, 1))\n",
            "    (26): BatchNorm2d(512, eps=1e-05, momentum=0.1, affine=True, track_running_stats=True)\n",
            "    (27): ReLU(inplace=True)\n",
            "    (28): MaxPool2d(kernel_size=2, stride=2, padding=0, dilation=1, ceil_mode=False)\n",
            "  )\n",
            "  (avgpool): AdaptiveAvgPool2d(output_size=(1, 1))\n",
            "  (fc): Linear(in_features=512, out_features=10, bias=True)\n",
            ")\n"
          ],
          "name": "stdout"
        }
      ]
    },
    {
      "cell_type": "markdown",
      "metadata": {
        "id": "2tyXpo-wHcwX"
      },
      "source": [
        "### Original 모델 MACs 확인"
      ]
    },
    {
      "cell_type": "code",
      "metadata": {
        "colab": {
          "base_uri": "https://localhost:8080/"
        },
        "id": "ssiiVdgKsnoU",
        "outputId": "88f2aac6-f4c2-477b-d52b-90ac3db32f34"
      },
      "source": [
        "macs, params = get_macs(test_model)\n",
        "print(f'original_model: {macs}')"
      ],
      "execution_count": null,
      "outputs": [
        {
          "output_type": "stream",
          "text": [
            "Warning: module MyModel is treated as a zero-op.\n",
            "MyModel(\n",
            "  9.231 M, 100.000% Params, 0.154 GMac, 100.000% MACs, \n",
            "  (features): Sequential(\n",
            "    9.226 M, 99.944% Params, 0.153 GMac, 99.996% MACs, \n",
            "    (0): Conv2d(0.002 M, 0.019% Params, 0.002 GMac, 1.195% MACs, 3, 64, kernel_size=(3, 3), stride=(1, 1), padding=(1, 1))\n",
            "    (1): BatchNorm2d(0.0 M, 0.001% Params, 0.0 GMac, 0.085% MACs, 64, eps=1e-05, momentum=0.1, affine=True, track_running_stats=True)\n",
            "    (2): ReLU(0.0 M, 0.000% Params, 0.0 GMac, 0.043% MACs, inplace=True)\n",
            "    (3): MaxPool2d(0.0 M, 0.000% Params, 0.0 GMac, 0.043% MACs, kernel_size=2, stride=2, padding=0, dilation=1, ceil_mode=False)\n",
            "    (4): Conv2d(0.074 M, 0.800% Params, 0.019 GMac, 12.317% MACs, 64, 128, kernel_size=(3, 3), stride=(1, 1), padding=(1, 1))\n",
            "    (5): BatchNorm2d(0.0 M, 0.003% Params, 0.0 GMac, 0.043% MACs, 128, eps=1e-05, momentum=0.1, affine=True, track_running_stats=True)\n",
            "    (6): ReLU(0.0 M, 0.000% Params, 0.0 GMac, 0.021% MACs, inplace=True)\n",
            "    (7): MaxPool2d(0.0 M, 0.000% Params, 0.0 GMac, 0.021% MACs, kernel_size=2, stride=2, padding=0, dilation=1, ceil_mode=False)\n",
            "    (8): Conv2d(0.295 M, 3.198% Params, 0.019 GMac, 12.307% MACs, 128, 256, kernel_size=(3, 3), stride=(1, 1), padding=(1, 1))\n",
            "    (9): BatchNorm2d(0.001 M, 0.006% Params, 0.0 GMac, 0.021% MACs, 256, eps=1e-05, momentum=0.1, affine=True, track_running_stats=True)\n",
            "    (10): ReLU(0.0 M, 0.000% Params, 0.0 GMac, 0.011% MACs, inplace=True)\n",
            "    (11): Conv2d(0.59 M, 6.392% Params, 0.038 GMac, 24.602% MACs, 256, 256, kernel_size=(3, 3), stride=(1, 1), padding=(1, 1))\n",
            "    (12): BatchNorm2d(0.001 M, 0.006% Params, 0.0 GMac, 0.021% MACs, 256, eps=1e-05, momentum=0.1, affine=True, track_running_stats=True)\n",
            "    (13): ReLU(0.0 M, 0.000% Params, 0.0 GMac, 0.011% MACs, inplace=True)\n",
            "    (14): MaxPool2d(0.0 M, 0.000% Params, 0.0 GMac, 0.011% MACs, kernel_size=2, stride=2, padding=0, dilation=1, ceil_mode=False)\n",
            "    (15): Conv2d(1.18 M, 12.785% Params, 0.019 GMac, 12.301% MACs, 256, 512, kernel_size=(3, 3), stride=(1, 1), padding=(1, 1))\n",
            "    (16): BatchNorm2d(0.001 M, 0.011% Params, 0.0 GMac, 0.011% MACs, 512, eps=1e-05, momentum=0.1, affine=True, track_running_stats=True)\n",
            "    (17): ReLU(0.0 M, 0.000% Params, 0.0 GMac, 0.005% MACs, inplace=True)\n",
            "    (18): Conv2d(2.36 M, 25.564% Params, 0.038 GMac, 24.597% MACs, 512, 512, kernel_size=(3, 3), stride=(1, 1), padding=(1, 1))\n",
            "    (19): BatchNorm2d(0.001 M, 0.011% Params, 0.0 GMac, 0.011% MACs, 512, eps=1e-05, momentum=0.1, affine=True, track_running_stats=True)\n",
            "    (20): ReLU(0.0 M, 0.000% Params, 0.0 GMac, 0.005% MACs, inplace=True)\n",
            "    (21): MaxPool2d(0.0 M, 0.000% Params, 0.0 GMac, 0.005% MACs, kernel_size=2, stride=2, padding=0, dilation=1, ceil_mode=False)\n",
            "    (22): Conv2d(2.36 M, 25.564% Params, 0.009 GMac, 6.149% MACs, 512, 512, kernel_size=(3, 3), stride=(1, 1), padding=(1, 1))\n",
            "    (23): BatchNorm2d(0.001 M, 0.011% Params, 0.0 GMac, 0.003% MACs, 512, eps=1e-05, momentum=0.1, affine=True, track_running_stats=True)\n",
            "    (24): ReLU(0.0 M, 0.000% Params, 0.0 GMac, 0.001% MACs, inplace=True)\n",
            "    (25): Conv2d(2.36 M, 25.564% Params, 0.009 GMac, 6.149% MACs, 512, 512, kernel_size=(3, 3), stride=(1, 1), padding=(1, 1))\n",
            "    (26): BatchNorm2d(0.001 M, 0.011% Params, 0.0 GMac, 0.003% MACs, 512, eps=1e-05, momentum=0.1, affine=True, track_running_stats=True)\n",
            "    (27): ReLU(0.0 M, 0.000% Params, 0.0 GMac, 0.001% MACs, inplace=True)\n",
            "    (28): MaxPool2d(0.0 M, 0.000% Params, 0.0 GMac, 0.001% MACs, kernel_size=2, stride=2, padding=0, dilation=1, ceil_mode=False)\n",
            "  )\n",
            "  (avgpool): AdaptiveAvgPool2d(0.0 M, 0.000% Params, 0.0 GMac, 0.000% MACs, output_size=(1, 1))\n",
            "  (fc): Linear(0.005 M, 0.056% Params, 0.0 GMac, 0.003% MACs, in_features=512, out_features=10, bias=True)\n",
            ")\n",
            "original_model: 0.15 GMac\n"
          ],
          "name": "stdout"
        }
      ]
    },
    {
      "cell_type": "markdown",
      "metadata": {
        "id": "meww4W3mHRFu"
      },
      "source": [
        "### Fine tune 및 Original 모델 Acc 확인"
      ]
    },
    {
      "cell_type": "code",
      "metadata": {
        "id": "3mzGWnKnxwfC",
        "colab": {
          "base_uri": "https://localhost:8080/"
        },
        "outputId": "813c8ca5-2f12-43db-8118-617b7eb0b926"
      },
      "source": [
        "print('Fine tune orignal model')\n",
        "train(test_model, num_epochs = 10)"
      ],
      "execution_count": null,
      "outputs": [
        {
          "output_type": "stream",
          "text": [
            "Fine tune orignal model\n",
            "epoch : 1 loss: 0.687\n",
            "Test acc: 81.08%\n",
            "epoch : 2 loss: 0.402\n",
            "Test acc: 84.22%\n",
            "epoch : 3 loss: 0.266\n",
            "Test acc: 84.30%\n",
            "epoch : 4 loss: 0.180\n",
            "Test acc: 83.59%\n",
            "epoch : 5 loss: 0.130\n",
            "Test acc: 82.83%\n",
            "epoch : 6 loss: 0.101\n",
            "Test acc: 84.53%\n",
            "epoch : 7 loss: 0.082\n",
            "Test acc: 82.69%\n",
            "epoch : 8 loss: 0.069\n",
            "Test acc: 85.09%\n",
            "epoch : 9 loss: 0.060\n",
            "Test acc: 84.67%\n",
            "epoch : 10 loss: 0.055\n",
            "Test acc: 84.18%\n",
            "Finished Training\n"
          ],
          "name": "stdout"
        }
      ]
    },
    {
      "cell_type": "markdown",
      "metadata": {
        "id": "HHMmhn4daOVl"
      },
      "source": [
        "## 2. Conv에 rank parameter 추가(register_buffer)"
      ]
    },
    {
      "cell_type": "code",
      "metadata": {
        "id": "5BP8889LXylG"
      },
      "source": [
        "for name, param in test_model.named_modules():\n",
        "    if isinstance(param, nn.Conv2d):\n",
        "        param.register_buffer('rank', torch.Tensor([0.5, 0.5])) # rank in, out                                               "
      ],
      "execution_count": null,
      "outputs": []
    },
    {
      "cell_type": "markdown",
      "metadata": {
        "id": "CjEJz9PYaHgy"
      },
      "source": [
        "## 3. Decomposition 수행"
      ]
    },
    {
      "cell_type": "markdown",
      "metadata": {
        "id": "Hpzb8G-7dduI"
      },
      "source": [
        "### 3-1. Tucker decomposition 함수"
      ]
    },
    {
      "cell_type": "code",
      "metadata": {
        "id": "qEvPh951Ybfc"
      },
      "source": [
        "import copy\n",
        "import tensorly as tl\n",
        "from tensorly.decomposition import parafac, partial_tucker\n",
        "from typing import List\n",
        "# switch to the PyTorch backend\n",
        "tl.set_backend('pytorch')\n",
        "\n",
        "def tucker_decomposition_conv_layer(\n",
        "      layer: nn.Module,\n",
        "      normed_rank: List[int] = [0.5, 0.5],\n",
        "  ) -> nn.Module:\n",
        "      \"\"\"Gets a conv layer,\n",
        "      returns a nn.Sequential object with the Tucker decomposition.\n",
        "      The ranks are estimated with a Python implementation of VBMF\n",
        "      https://github.com/CasvandenBogaard/VBMF\n",
        "      \"\"\"\n",
        "      if hasattr(layer, \"rank\"):\n",
        "          normed_rank = getattr(layer, \"rank\")\n",
        "      rank = [int(r * layer.weight.shape[i]) for i, r in enumerate(normed_rank)] # output channel * normalized rank\n",
        "      rank = [max(r, 2) for r in rank]\n",
        "\n",
        "      core, [last, first] = partial_tucker(\n",
        "          layer.weight.data,\n",
        "          modes=[0, 1],\n",
        "          n_iter_max=2000000,\n",
        "          rank=rank,\n",
        "          init=\"svd\",\n",
        "      )\n",
        "\n",
        "      # A pointwise convolution that reduces the channels from S to R3\n",
        "      first_layer = nn.Conv2d(\n",
        "          in_channels=first.shape[0],\n",
        "          out_channels=first.shape[1],\n",
        "          kernel_size=1,\n",
        "          stride=1,\n",
        "          padding=0,\n",
        "          dilation=layer.dilation,\n",
        "          bias=False,\n",
        "      )\n",
        "\n",
        "      # A regular 2D convolution layer with R3 input channels\n",
        "      # and R3 output channels\n",
        "      core_layer = nn.Conv2d(\n",
        "          in_channels=core.shape[1],\n",
        "          out_channels=core.shape[0],\n",
        "          kernel_size=layer.kernel_size,\n",
        "          stride=layer.stride,\n",
        "          padding=layer.padding,\n",
        "          dilation=layer.dilation,\n",
        "          bias=False,\n",
        "      )\n",
        "\n",
        "      # A pointwise convolution that increases the channels from R4 to T\n",
        "      last_layer = nn.Conv2d(\n",
        "          in_channels=last.shape[1],\n",
        "          out_channels=last.shape[0],\n",
        "          kernel_size=1,\n",
        "          stride=1,\n",
        "          padding=0,\n",
        "          dilation=layer.dilation,\n",
        "          bias=True,\n",
        "      )\n",
        "\n",
        "      if hasattr(layer, \"bias\") and layer.bias is not None:\n",
        "          last_layer.bias.data = layer.bias.data\n",
        "\n",
        "      first_layer.weight.data = (\n",
        "          torch.transpose(first, 1, 0).unsqueeze(-1).unsqueeze(-1)\n",
        "      )\n",
        "      last_layer.weight.data = last.unsqueeze(-1).unsqueeze(-1)\n",
        "      core_layer.weight.data = core\n",
        "\n",
        "      new_layers = [first_layer, core_layer, last_layer]\n",
        "      return nn.Sequential(*new_layers)\n"
      ],
      "execution_count": null,
      "outputs": []
    },
    {
      "cell_type": "markdown",
      "metadata": {
        "id": "Wai8bULJdkCX"
      },
      "source": [
        "### 3-2. Decomposition 수행"
      ]
    },
    {
      "cell_type": "code",
      "metadata": {
        "id": "2qQWeGSnbnLx"
      },
      "source": [
        "def decompose(module: nn.Module):\n",
        "  \"\"\"Iterate model layers and decompose\"\"\"\n",
        "  model_layers = list(module.children())\n",
        "  if not model_layers:\n",
        "      return None\n",
        "  for i in range(len(model_layers)):\n",
        "      if type(model_layers[i]) == nn.Sequential:\n",
        "          decomposed_module = decompose(model_layers[i])\n",
        "          if decomposed_module:\n",
        "              model_layers[i] = decomposed_module\n",
        "      if type(model_layers[i]) == nn.Conv2d:\n",
        "          model_layers[i] = tucker_decomposition_conv_layer(model_layers[i])\n",
        "  return nn.Sequential(*model_layers)"
      ],
      "execution_count": null,
      "outputs": []
    },
    {
      "cell_type": "code",
      "metadata": {
        "id": "zGNbAloNu8ro",
        "colab": {
          "base_uri": "https://localhost:8080/"
        },
        "outputId": "fa7a67c9-1c95-41f9-947e-2991b8c86eeb"
      },
      "source": [
        "test_model.features = decompose(test_model.features)\n",
        "test_model = test_model.to(DEVICE)"
      ],
      "execution_count": null,
      "outputs": [
        {
          "output_type": "stream",
          "text": [
            "/usr/local/lib/python3.7/dist-packages/tensorly/backend/core.py:885: UserWarning: In partial_svd: converting to NumPy. Check SVD_FUNS for available alternatives if you want to avoid this.\n",
            "  warnings.warn('In partial_svd: converting to NumPy.'\n"
          ],
          "name": "stderr"
        }
      ]
    },
    {
      "cell_type": "markdown",
      "metadata": {
        "id": "5OPPl7ixHqt2"
      },
      "source": [
        "### Decomposed 모델 MACs 확인"
      ]
    },
    {
      "cell_type": "code",
      "metadata": {
        "id": "XMguK9TcdxxK",
        "colab": {
          "base_uri": "https://localhost:8080/"
        },
        "outputId": "b55ab76d-c56b-4ad8-d206-069d18c19265"
      },
      "source": [
        "macs, params = get_macs(test_model)\n",
        "print(f'decomposed_model: {macs}')"
      ],
      "execution_count": null,
      "outputs": [
        {
          "output_type": "stream",
          "text": [
            "Warning: variables __flops__ or __params__ are already defined for the moduleBatchNorm2d ptflops can affect your code!\n",
            "Warning: variables __flops__ or __params__ are already defined for the moduleReLU ptflops can affect your code!\n",
            "Warning: variables __flops__ or __params__ are already defined for the moduleMaxPool2d ptflops can affect your code!\n",
            "Warning: variables __flops__ or __params__ are already defined for the moduleBatchNorm2d ptflops can affect your code!\n",
            "Warning: variables __flops__ or __params__ are already defined for the moduleReLU ptflops can affect your code!\n",
            "Warning: variables __flops__ or __params__ are already defined for the moduleMaxPool2d ptflops can affect your code!\n",
            "Warning: variables __flops__ or __params__ are already defined for the moduleBatchNorm2d ptflops can affect your code!\n",
            "Warning: variables __flops__ or __params__ are already defined for the moduleReLU ptflops can affect your code!\n",
            "Warning: variables __flops__ or __params__ are already defined for the moduleBatchNorm2d ptflops can affect your code!\n",
            "Warning: variables __flops__ or __params__ are already defined for the moduleReLU ptflops can affect your code!\n",
            "Warning: variables __flops__ or __params__ are already defined for the moduleMaxPool2d ptflops can affect your code!\n",
            "Warning: variables __flops__ or __params__ are already defined for the moduleBatchNorm2d ptflops can affect your code!\n",
            "Warning: variables __flops__ or __params__ are already defined for the moduleReLU ptflops can affect your code!\n",
            "Warning: variables __flops__ or __params__ are already defined for the moduleBatchNorm2d ptflops can affect your code!\n",
            "Warning: variables __flops__ or __params__ are already defined for the moduleReLU ptflops can affect your code!\n",
            "Warning: variables __flops__ or __params__ are already defined for the moduleMaxPool2d ptflops can affect your code!\n",
            "Warning: variables __flops__ or __params__ are already defined for the moduleBatchNorm2d ptflops can affect your code!\n",
            "Warning: variables __flops__ or __params__ are already defined for the moduleReLU ptflops can affect your code!\n",
            "Warning: variables __flops__ or __params__ are already defined for the moduleBatchNorm2d ptflops can affect your code!\n",
            "Warning: variables __flops__ or __params__ are already defined for the moduleReLU ptflops can affect your code!\n",
            "Warning: variables __flops__ or __params__ are already defined for the moduleMaxPool2d ptflops can affect your code!\n",
            "Warning: variables __flops__ or __params__ are already defined for the moduleAdaptiveAvgPool2d ptflops can affect your code!\n",
            "Warning: variables __flops__ or __params__ are already defined for the moduleLinear ptflops can affect your code!\n",
            "Warning: module MyModel is treated as a zero-op.\n",
            "MyModel(\n",
            "  3.387 M, 100.000% Params, 0.06 GMac, 100.000% MACs, \n",
            "  (features): Sequential(\n",
            "    3.382 M, 99.849% Params, 0.06 GMac, 99.991% MACs, \n",
            "    (0): Sequential(\n",
            "      0.003 M, 0.080% Params, 0.003 GMac, 4.634% MACs, \n",
            "      (0): Conv2d(0.0 M, 0.000% Params, 0.0 GMac, 0.010% MACs, 3, 2, kernel_size=(1, 1), stride=(1, 1), bias=False)\n",
            "      (1): Conv2d(0.001 M, 0.017% Params, 0.001 GMac, 0.991% MACs, 2, 32, kernel_size=(3, 3), stride=(1, 1), padding=(1, 1), bias=False)\n",
            "      (2): Conv2d(0.002 M, 0.062% Params, 0.002 GMac, 3.633% MACs, 32, 64, kernel_size=(1, 1), stride=(1, 1))\n",
            "    )\n",
            "    (1): BatchNorm2d(0.0 M, 0.004% Params, 0.0 GMac, 0.220% MACs, 64, eps=1e-05, momentum=0.1, affine=True, track_running_stats=True)\n",
            "    (2): ReLU(0.0 M, 0.000% Params, 0.0 GMac, 0.110% MACs, inplace=True)\n",
            "    (3): MaxPool2d(0.0 M, 0.000% Params, 0.0 GMac, 0.110% MACs, kernel_size=2, stride=2, padding=0, dilation=1, ceil_mode=False)\n",
            "    (4): Sequential(\n",
            "      0.029 M, 0.850% Params, 0.007 GMac, 12.385% MACs, \n",
            "      (0): Conv2d(0.002 M, 0.060% Params, 0.001 GMac, 0.881% MACs, 64, 32, kernel_size=(1, 1), stride=(1, 1), bias=False)\n",
            "      (1): Conv2d(0.018 M, 0.544% Params, 0.005 GMac, 7.927% MACs, 32, 64, kernel_size=(3, 3), stride=(1, 1), padding=(1, 1), bias=False)\n",
            "      (2): Conv2d(0.008 M, 0.246% Params, 0.002 GMac, 3.578% MACs, 64, 128, kernel_size=(1, 1), stride=(1, 1))\n",
            "    )\n",
            "    (5): BatchNorm2d(0.0 M, 0.008% Params, 0.0 GMac, 0.110% MACs, 128, eps=1e-05, momentum=0.1, affine=True, track_running_stats=True)\n",
            "    (6): ReLU(0.0 M, 0.000% Params, 0.0 GMac, 0.055% MACs, inplace=True)\n",
            "    (7): MaxPool2d(0.0 M, 0.000% Params, 0.0 GMac, 0.055% MACs, kernel_size=2, stride=2, padding=0, dilation=1, ceil_mode=False)\n",
            "    (8): Sequential(\n",
            "      0.115 M, 3.394% Params, 0.007 GMac, 12.358% MACs, \n",
            "      (0): Conv2d(0.008 M, 0.242% Params, 0.001 GMac, 0.881% MACs, 128, 64, kernel_size=(1, 1), stride=(1, 1), bias=False)\n",
            "      (1): Conv2d(0.074 M, 2.177% Params, 0.005 GMac, 7.927% MACs, 64, 128, kernel_size=(3, 3), stride=(1, 1), padding=(1, 1), bias=False)\n",
            "      (2): Conv2d(0.033 M, 0.975% Params, 0.002 GMac, 3.550% MACs, 128, 256, kernel_size=(1, 1), stride=(1, 1))\n",
            "    )\n",
            "    (9): BatchNorm2d(0.001 M, 0.015% Params, 0.0 GMac, 0.055% MACs, 256, eps=1e-05, momentum=0.1, affine=True, track_running_stats=True)\n",
            "    (10): ReLU(0.0 M, 0.000% Params, 0.0 GMac, 0.028% MACs, inplace=True)\n",
            "    (11): Sequential(\n",
            "      0.213 M, 6.296% Params, 0.014 GMac, 22.927% MACs, \n",
            "      (0): Conv2d(0.033 M, 0.967% Params, 0.002 GMac, 3.523% MACs, 256, 128, kernel_size=(1, 1), stride=(1, 1), bias=False)\n",
            "      (1): Conv2d(0.147 M, 4.354% Params, 0.009 GMac, 15.853% MACs, 128, 128, kernel_size=(3, 3), stride=(1, 1), padding=(1, 1), bias=False)\n",
            "      (2): Conv2d(0.033 M, 0.975% Params, 0.002 GMac, 3.550% MACs, 128, 256, kernel_size=(1, 1), stride=(1, 1))\n",
            "    )\n",
            "    (12): BatchNorm2d(0.001 M, 0.015% Params, 0.0 GMac, 0.055% MACs, 256, eps=1e-05, momentum=0.1, affine=True, track_running_stats=True)\n",
            "    (13): ReLU(0.0 M, 0.000% Params, 0.0 GMac, 0.028% MACs, inplace=True)\n",
            "    (14): MaxPool2d(0.0 M, 0.000% Params, 0.0 GMac, 0.028% MACs, kernel_size=2, stride=2, padding=0, dilation=1, ceil_mode=False)\n",
            "    (15): Sequential(\n",
            "      0.459 M, 13.560% Params, 0.007 GMac, 12.344% MACs, \n",
            "      (0): Conv2d(0.033 M, 0.967% Params, 0.001 GMac, 0.881% MACs, 256, 128, kernel_size=(1, 1), stride=(1, 1), bias=False)\n",
            "      (1): Conv2d(0.295 M, 8.707% Params, 0.005 GMac, 7.927% MACs, 128, 256, kernel_size=(3, 3), stride=(1, 1), padding=(1, 1), bias=False)\n",
            "      (2): Conv2d(0.132 M, 3.885% Params, 0.002 GMac, 3.537% MACs, 256, 512, kernel_size=(1, 1), stride=(1, 1))\n",
            "    )\n",
            "    (16): BatchNorm2d(0.001 M, 0.030% Params, 0.0 GMac, 0.028% MACs, 512, eps=1e-05, momentum=0.1, affine=True, track_running_stats=True)\n",
            "    (17): ReLU(0.0 M, 0.000% Params, 0.0 GMac, 0.014% MACs, inplace=True)\n",
            "    (18): Sequential(\n",
            "      0.852 M, 25.169% Params, 0.014 GMac, 22.913% MACs, \n",
            "      (0): Conv2d(0.131 M, 3.870% Params, 0.002 GMac, 3.523% MACs, 512, 256, kernel_size=(1, 1), stride=(1, 1), bias=False)\n",
            "      (1): Conv2d(0.59 M, 17.414% Params, 0.009 GMac, 15.853% MACs, 256, 256, kernel_size=(3, 3), stride=(1, 1), padding=(1, 1), bias=False)\n",
            "      (2): Conv2d(0.132 M, 3.885% Params, 0.002 GMac, 3.537% MACs, 256, 512, kernel_size=(1, 1), stride=(1, 1))\n",
            "    )\n",
            "    (19): BatchNorm2d(0.001 M, 0.030% Params, 0.0 GMac, 0.028% MACs, 512, eps=1e-05, momentum=0.1, affine=True, track_running_stats=True)\n",
            "    (20): ReLU(0.0 M, 0.000% Params, 0.0 GMac, 0.014% MACs, inplace=True)\n",
            "    (21): MaxPool2d(0.0 M, 0.000% Params, 0.0 GMac, 0.014% MACs, kernel_size=2, stride=2, padding=0, dilation=1, ceil_mode=False)\n",
            "    (22): Sequential(\n",
            "      0.852 M, 25.169% Params, 0.003 GMac, 5.728% MACs, \n",
            "      (0): Conv2d(0.131 M, 3.870% Params, 0.001 GMac, 0.881% MACs, 512, 256, kernel_size=(1, 1), stride=(1, 1), bias=False)\n",
            "      (1): Conv2d(0.59 M, 17.414% Params, 0.002 GMac, 3.963% MACs, 256, 256, kernel_size=(3, 3), stride=(1, 1), padding=(1, 1), bias=False)\n",
            "      (2): Conv2d(0.132 M, 3.885% Params, 0.001 GMac, 0.884% MACs, 256, 512, kernel_size=(1, 1), stride=(1, 1))\n",
            "    )\n",
            "    (23): BatchNorm2d(0.001 M, 0.030% Params, 0.0 GMac, 0.007% MACs, 512, eps=1e-05, momentum=0.1, affine=True, track_running_stats=True)\n",
            "    (24): ReLU(0.0 M, 0.000% Params, 0.0 GMac, 0.003% MACs, inplace=True)\n",
            "    (25): Sequential(\n",
            "      0.852 M, 25.169% Params, 0.003 GMac, 5.728% MACs, \n",
            "      (0): Conv2d(0.131 M, 3.870% Params, 0.001 GMac, 0.881% MACs, 512, 256, kernel_size=(1, 1), stride=(1, 1), bias=False)\n",
            "      (1): Conv2d(0.59 M, 17.414% Params, 0.002 GMac, 3.963% MACs, 256, 256, kernel_size=(3, 3), stride=(1, 1), padding=(1, 1), bias=False)\n",
            "      (2): Conv2d(0.132 M, 3.885% Params, 0.001 GMac, 0.884% MACs, 256, 512, kernel_size=(1, 1), stride=(1, 1))\n",
            "    )\n",
            "    (26): BatchNorm2d(0.001 M, 0.030% Params, 0.0 GMac, 0.007% MACs, 512, eps=1e-05, momentum=0.1, affine=True, track_running_stats=True)\n",
            "    (27): ReLU(0.0 M, 0.000% Params, 0.0 GMac, 0.003% MACs, inplace=True)\n",
            "    (28): MaxPool2d(0.0 M, 0.000% Params, 0.0 GMac, 0.003% MACs, kernel_size=2, stride=2, padding=0, dilation=1, ceil_mode=False)\n",
            "  )\n",
            "  (avgpool): AdaptiveAvgPool2d(0.0 M, 0.000% Params, 0.0 GMac, 0.001% MACs, output_size=(1, 1))\n",
            "  (fc): Linear(0.005 M, 0.151% Params, 0.0 GMac, 0.009% MACs, in_features=512, out_features=10, bias=True)\n",
            ")\n",
            "decomposed_model: 0.06 GMac\n"
          ],
          "name": "stdout"
        }
      ]
    },
    {
      "cell_type": "markdown",
      "metadata": {
        "id": "XxSuVbsrHw5B"
      },
      "source": [
        "### Fine tune 및 decomposed 모델 Acc 확인"
      ]
    },
    {
      "cell_type": "code",
      "metadata": {
        "id": "Y_av-s-1s-UC",
        "colab": {
          "base_uri": "https://localhost:8080/"
        },
        "outputId": "9bc2c7e2-f3f7-435d-dabf-e9d16211d807"
      },
      "source": [
        "print('Fine tune decomposed model')\n",
        "train(test_model, num_epochs = 10)"
      ],
      "execution_count": null,
      "outputs": [
        {
          "output_type": "stream",
          "text": [
            "Fine tune decomposed model\n",
            "epoch : 1 loss: 0.354\n",
            "Test acc: 80.60%\n",
            "epoch : 2 loss: 0.266\n",
            "Test acc: 81.82%\n",
            "epoch : 3 loss: 0.222\n",
            "Test acc: 82.91%\n",
            "epoch : 4 loss: 0.189\n",
            "Test acc: 81.60%\n",
            "epoch : 5 loss: 0.175\n",
            "Test acc: 82.14%\n",
            "epoch : 6 loss: 0.152\n",
            "Test acc: 82.91%\n",
            "epoch : 7 loss: 0.140\n",
            "Test acc: 83.86%\n",
            "epoch : 8 loss: 0.124\n",
            "Test acc: 84.96%\n",
            "epoch : 9 loss: 0.121\n",
            "Test acc: 84.28%\n",
            "epoch : 10 loss: 0.111\n",
            "Test acc: 84.49%\n",
            "Finished Training\n"
          ],
          "name": "stdout"
        }
      ]
    },
    {
      "cell_type": "code",
      "metadata": {
        "id": "OOXonk-cFeFz"
      },
      "source": [
        ""
      ],
      "execution_count": null,
      "outputs": []
    }
  ]
}